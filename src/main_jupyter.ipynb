{
 "metadata": {
  "language_info": {
   "codemirror_mode": {
    "name": "ipython",
    "version": 3
   },
   "file_extension": ".py",
   "mimetype": "text/x-python",
   "name": "python",
   "nbconvert_exporter": "python",
   "pygments_lexer": "ipython3",
   "version": "3.8.6-final"
  },
  "orig_nbformat": 2,
  "kernelspec": {
   "name": "python38664bitc83ddaa84b764acba7915d5df1c2ec5d",
   "display_name": "Python 3.8.6 64-bit"
  }
 },
 "nbformat": 4,
 "nbformat_minor": 2,
 "cells": [
  {
   "cell_type": "code",
   "execution_count": 1,
   "metadata": {
    "tags": []
   },
   "outputs": [
    {
     "output_type": "error",
     "ename": "FileNotFoundError",
     "evalue": "[WinError 3] The system cannot find the path specified: 'images/obstacle_images'",
     "traceback": [
      "\u001b[1;31m---------------------------------------------------------------------------\u001b[0m",
      "\u001b[1;31mFileNotFoundError\u001b[0m                         Traceback (most recent call last)",
      "\u001b[1;32m<ipython-input-1-8659be5c3f7f>\u001b[0m in \u001b[0;36m<module>\u001b[1;34m\u001b[0m\n\u001b[0;32m     45\u001b[0m \u001b[1;33m\u001b[0m\u001b[0m\n\u001b[0;32m     46\u001b[0m \u001b[1;32mif\u001b[0m \u001b[0m__name__\u001b[0m \u001b[1;33m==\u001b[0m \u001b[1;34m\"__main__\"\u001b[0m\u001b[1;33m:\u001b[0m\u001b[1;33m\u001b[0m\u001b[1;33m\u001b[0m\u001b[0m\n\u001b[1;32m---> 47\u001b[1;33m     \u001b[0mmain\u001b[0m\u001b[1;33m(\u001b[0m\u001b[1;33m)\u001b[0m\u001b[1;33m\u001b[0m\u001b[1;33m\u001b[0m\u001b[0m\n\u001b[0m",
      "\u001b[1;32m<ipython-input-1-8659be5c3f7f>\u001b[0m in \u001b[0;36mmain\u001b[1;34m()\u001b[0m\n\u001b[0;32m     23\u001b[0m \u001b[1;33m\u001b[0m\u001b[0m\n\u001b[0;32m     24\u001b[0m     \u001b[1;31m# load obstacles\u001b[0m\u001b[1;33m\u001b[0m\u001b[1;33m\u001b[0m\u001b[1;33m\u001b[0m\u001b[0m\n\u001b[1;32m---> 25\u001b[1;33m     \u001b[0mtemplate_files\u001b[0m \u001b[1;33m=\u001b[0m \u001b[0mos\u001b[0m\u001b[1;33m.\u001b[0m\u001b[0mlistdir\u001b[0m\u001b[1;33m(\u001b[0m\u001b[1;34m\"images/obstacle_images\"\u001b[0m\u001b[1;33m)\u001b[0m\u001b[1;33m\u001b[0m\u001b[1;33m\u001b[0m\u001b[0m\n\u001b[0m\u001b[0;32m     26\u001b[0m     \u001b[1;32mfor\u001b[0m \u001b[0mindex\u001b[0m\u001b[1;33m,\u001b[0m \u001b[0mfileName\u001b[0m \u001b[1;32min\u001b[0m \u001b[0menumerate\u001b[0m\u001b[1;33m(\u001b[0m\u001b[0mtemplate_files\u001b[0m\u001b[1;33m)\u001b[0m\u001b[1;33m:\u001b[0m\u001b[1;33m\u001b[0m\u001b[1;33m\u001b[0m\u001b[0m\n\u001b[0;32m     27\u001b[0m         \u001b[0mtemplate_files\u001b[0m\u001b[1;33m[\u001b[0m\u001b[0mindex\u001b[0m\u001b[1;33m]\u001b[0m \u001b[1;33m=\u001b[0m \u001b[1;34m\"images/obstacle_images/\"\u001b[0m \u001b[1;33m+\u001b[0m \u001b[0mfileName\u001b[0m\u001b[1;33m\u001b[0m\u001b[1;33m\u001b[0m\u001b[0m\n",
      "\u001b[1;31mFileNotFoundError\u001b[0m: [WinError 3] The system cannot find the path specified: 'images/obstacle_images'"
     ]
    }
   ],
   "source": [
    "from screencapture import ScreenCapture\n",
    "from imageProcess import ImageProcess\n",
    "import sys, os\n",
    "import cv2\n",
    "import numpy\n",
    "import time\n",
    "from mss.windows import MSS as mss\n",
    "from pynput.mouse import Button, Controller\n",
    "from player import Player\n",
    "\n",
    "sys.path.append(\"/../\")\n",
    "\n",
    "\n",
    "def play_game():\n",
    "    player = Player()\n",
    "    print('5s to get screen open')\n",
    "    time.sleep(5)\n",
    "    player.play()\n",
    "\n",
    "\n",
    "\n",
    "def main():\n",
    "\n",
    "    # load obstacles\n",
    "    template_files = os.listdir(\"images/obstacle_images\")\n",
    "    for index, fileName in enumerate(template_files):\n",
    "        template_files[index] = \"images/obstacle_images/\" + fileName\n",
    "\n",
    "    # Create image processing object to use detection with\n",
    "    imgProcess = ImageProcess(template_files, \"images/dinosaur.PNG\")\n",
    "\n",
    "    # #get image and find distance to all obstacles\n",
    "    # img = ScreenCapture.get_screen(top = 180, left = 340, width = 600, height = 150)\n",
    "    # res = imgProcess.get_distance(img, drawRect = True)\n",
    "    # print(res)\n",
    "\n",
    "    # #get score of the run\n",
    "    score_img = ScreenCapture.get_screen(\n",
    "        top=170, left=840, width=100, height=50, delay=2,\n",
    "    )\n",
    "    imgProcess.show_image(cv2.cvtColor(score_img, cv2.COLOR_BGRA2GRAY))\n",
    "    score = imgProcess.get_score(score_img)\n",
    "    print(int(score))\n",
    "\n",
    "\n",
    "if __name__ == \"__main__\":\n",
    "    main()"
   ]
  },
  {
   "cell_type": "code",
   "execution_count": null,
   "metadata": {},
   "outputs": [],
   "source": []
  },
  {
   "cell_type": "code",
   "execution_count": null,
   "metadata": {},
   "outputs": [],
   "source": []
  }
 ]
}