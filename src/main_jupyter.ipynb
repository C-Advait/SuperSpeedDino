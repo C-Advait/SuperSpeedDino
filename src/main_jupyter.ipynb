{
 "metadata": {
  "language_info": {
   "codemirror_mode": {
    "name": "ipython",
    "version": 3
   },
   "file_extension": ".py",
   "mimetype": "text/x-python",
   "name": "python",
   "nbconvert_exporter": "python",
   "pygments_lexer": "ipython3",
   "version": "3.8.5-final"
  },
  "orig_nbformat": 2,
  "kernelspec": {
   "name": "Python 3.8.5 64-bit",
   "display_name": "Python 3.8.5 64-bit",
   "metadata": {
    "interpreter": {
     "hash": "ebc5cbf481e7962ac9cddf0328543b7233575b38f2c567e0c2f0eb16b3ab68e5"
    }
   }
  }
 },
 "nbformat": 4,
 "nbformat_minor": 2,
 "cells": [
  {
   "cell_type": "code",
   "execution_count": 1,
   "metadata": {
    "tags": []
   },
   "outputs": [
    {
     "output_type": "stream",
     "name": "stdout",
     "text": [
      "['double_cactus_small.PNG', 'game_over.PNG', 'quadruple_cactus.PNG', 'single_cactus.PNG', 'single_small_cactus.PNG', 'triple_cactus.PNG']\nimages/obstacle_images/double_cactus_small.PNG\nimages/obstacle_images/game_over.PNG\nimages/obstacle_images/quadruple_cactus.PNG\nimages/obstacle_images/single_cactus.PNG\nimages/obstacle_images/single_small_cactus.PNG\nimages/obstacle_images/triple_cactus.PNG\n"
     ]
    },
    {
     "output_type": "error",
     "ename": "TypeError",
     "evalue": "get_score() missing 1 required positional argument: 'image'",
     "traceback": [
      "\u001b[1;31m---------------------------------------------------------------------------\u001b[0m",
      "\u001b[1;31mTypeError\u001b[0m                                 Traceback (most recent call last)",
      "\u001b[1;32m<ipython-input-1-3866ee1ca3ed>\u001b[0m in \u001b[0;36m<module>\u001b[1;34m\u001b[0m\n\u001b[0;32m     40\u001b[0m \u001b[1;33m\u001b[0m\u001b[0m\n\u001b[0;32m     41\u001b[0m \u001b[1;32mif\u001b[0m \u001b[0m__name__\u001b[0m \u001b[1;33m==\u001b[0m \u001b[1;34m\"__main__\"\u001b[0m\u001b[1;33m:\u001b[0m\u001b[1;33m\u001b[0m\u001b[1;33m\u001b[0m\u001b[0m\n\u001b[1;32m---> 42\u001b[1;33m     \u001b[0mmain\u001b[0m\u001b[1;33m(\u001b[0m\u001b[1;33m)\u001b[0m\u001b[1;33m\u001b[0m\u001b[1;33m\u001b[0m\u001b[0m\n\u001b[0m",
      "\u001b[1;32m<ipython-input-1-3866ee1ca3ed>\u001b[0m in \u001b[0;36mmain\u001b[1;34m()\u001b[0m\n\u001b[0;32m     37\u001b[0m     \u001b[1;31m# imageProcess.show_image(img)\u001b[0m\u001b[1;33m\u001b[0m\u001b[1;33m\u001b[0m\u001b[1;33m\u001b[0m\u001b[0m\n\u001b[0;32m     38\u001b[0m \u001b[1;33m\u001b[0m\u001b[0m\n\u001b[1;32m---> 39\u001b[1;33m     \u001b[0mimgProcess\u001b[0m\u001b[1;33m.\u001b[0m\u001b[0mget_score\u001b[0m\u001b[1;33m(\u001b[0m\u001b[1;33m)\u001b[0m\u001b[1;33m\u001b[0m\u001b[1;33m\u001b[0m\u001b[0m\n\u001b[0m\u001b[0;32m     40\u001b[0m \u001b[1;33m\u001b[0m\u001b[0m\n\u001b[0;32m     41\u001b[0m \u001b[1;32mif\u001b[0m \u001b[0m__name__\u001b[0m \u001b[1;33m==\u001b[0m \u001b[1;34m\"__main__\"\u001b[0m\u001b[1;33m:\u001b[0m\u001b[1;33m\u001b[0m\u001b[1;33m\u001b[0m\u001b[0m\n",
      "\u001b[1;31mTypeError\u001b[0m: get_score() missing 1 required positional argument: 'image'"
     ]
    }
   ],
   "source": [
    "from screencapture import windowCapture\n",
    "from imageProcess import imageProcess\n",
    "import sys, os\n",
    "import cv2\n",
    "import numpy\n",
    "from time import time\n",
    "from mss.windows import MSS as mss\n",
    "from pynput.mouse import Button, Controller\n",
    "from time import time\n",
    "import numpy as np\n",
    "\n",
    "sys.path.append('/../')\n",
    "\n",
    "def main():\n",
    "\n",
    "    template_files = os.listdir(r'C:\\Users\\advai\\Documents\\programming\\dinosaur_algorithm\\images\\obstacle_images')\n",
    "    print(template_files)\n",
    "    for index, fileName in enumerate(template_files):\n",
    "        template_files[index] = 'images/obstacle_images/' + fileName\n",
    "\n",
    "    imgProcess = imageProcess(template_files, r'C:\\Users\\advai\\Documents\\programming\\dinosaur_algorithm\\images\\dinosaur.PNG')\n",
    "    # img = windowCapture.get_screen()\n",
    "    # # print(img)\n",
    "    # cv2.imshow('image', img)\n",
    "    # cv2.waitKey(0)\n",
    "    # cv2.destroyAllWindows\n",
    "    # imgProcess.find_dino(cv2.cvtColor(img, cv2.COLOR_BGRA2GRAY), drawRect = True)\n",
    "\n",
    "    # # for template in imgProcess.templates:\n",
    "    # #     imgProcess.find_obstacle(cv2.cvtColor(img, cv2.COLOR_BGRA2GRAY), template, drawRect = True)\n",
    "    # imgProcess.get_distance(img)\n",
    "\n",
    "    # score_img = windowCapture.get_screen(top = 300, left = 1080, width = 200, height = 50)\n",
    "    # imgProcess.show_image(cv2.cvtColor(score_img, cv2.COLOR_BGRA2GRAY))\n",
    "    ## test\n",
    "    # img = windowCapture.get_screen()\n",
    "    # imageProcess.show_image(img)\n",
    "\n",
    "    imgProcess.get_score(r'C:\\Users\\advai\\Documents\\programming\\dinosaur_algorithm\\images\\score_test.PNG)\n",
    "\n",
    "if __name__ == \"__main__\":\n",
    "    main()"
   ]
  },
  {
   "cell_type": "code",
   "execution_count": null,
   "metadata": {},
   "outputs": [],
   "source": []
  },
  {
   "cell_type": "code",
   "execution_count": null,
   "metadata": {},
   "outputs": [],
   "source": []
  }
 ]
}